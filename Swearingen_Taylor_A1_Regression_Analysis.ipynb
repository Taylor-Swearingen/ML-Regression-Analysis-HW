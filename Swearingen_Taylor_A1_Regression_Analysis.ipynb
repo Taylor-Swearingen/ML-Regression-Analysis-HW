{
 "cells": [
  {
   "cell_type": "markdown",
   "id": "e74bc819",
   "metadata": {},
   "source": [
    "# Regression Analysis\n",
    "Taylor Swearingen"
   ]
  },
  {
   "cell_type": "code",
   "execution_count": null,
   "id": "bf1865ab",
   "metadata": {},
   "outputs": [],
   "source": [
    "# Setting up the libraries and data\n",
    "# import libraries \n",
    "import pandas as pd\n",
    "import numpy as np\n",
    "import statsmodels.formula.api as smf \n",
    "from sklearn.model_selection import train_test_split \n",
    "import sklearn.linear_model \n",
    "\n",
    "# specifying the path and file name\n",
    "file = './Apprentice_Chef_Dataset.xlsx'\n",
    "\n",
    "# reading the file \n",
    "Chef = pd.read_excel(file)\n",
    "\n",
    "# viewing the file\n",
    "Chef.head(n = 5)"
   ]
  },
  {
   "cell_type": "code",
   "execution_count": null,
   "id": "d68b99a7",
   "metadata": {},
   "outputs": [],
   "source": [
    "# creating Continuous variables and response variables subset\n",
    "continuous_x_variables = ['CROSS_SELL_SUCCESS', 'TOTAL_MEALS_ORDERED', 'UNIQUE_MEALS_PURCH',\n",
    "                           'CONTACTS_W_CUSTOMER_SERVICE', 'PRODUCT_CATEGORIES_VIEWED',\n",
    "                           'AVG_TIME_PER_SITE_VISIT', 'CANCELLATIONS_BEFORE_NOON',\n",
    "                           'CANCELLATIONS_AFTER_NOON', 'TASTES_AND_PREFERENCES', 'PC_LOGINS',\n",
    "                           'MOBILE_LOGINS', 'WEEKLY_PLAN', 'EARLY_DELIVERIES', 'LATE_DELIVERIES',\n",
    "                           'PACKAGE_LOCKER', 'REFRIGERATED_LOCKER', 'AVG_PREP_VID_TIME',\n",
    "                           'LARGEST_ORDER_SIZE', 'MASTER_CLASSES_ATTENDED', 'MEDIAN_MEAL_RATING',\n",
    "                           'AVG_CLICKS_PER_VISIT', 'TOTAL_PHOTOS_VIEWED']\n",
    "\n",
    "y_variable = ['REVENUE']"
   ]
  },
  {
   "cell_type": "code",
   "execution_count": null,
   "id": "d4a5c95f",
   "metadata": {},
   "outputs": [],
   "source": [
    "# preparing x-variables from the OLS model\n",
    "x_data = Chef.loc[:, continuous_x_variables]\n",
    "\n",
    "\n",
    "# preparing response variable\n",
    "y_data = Chef.loc[:, y_variable]\n",
    "\n",
    "# setting up the training and testing datasets\n",
    "x_train, x_test, y_train, y_test = train_test_split(\n",
    "            x_data,         \n",
    "            y_data,   \n",
    "            test_size    = 0.25,\n",
    "            random_state = 219)\n",
    "\n",
    "# creating dataframes from training and testing\n",
    "\n",
    "# training DF\n",
    "chef_train = Chef.loc[x_train.index , continuous_x_variables]\n",
    "chef_train['REVENUE'] = y_train\n",
    "\n",
    "#testing DF\n",
    "chef_test = Chef.loc[x_test.index , continuous_x_variables]\n",
    "chef_test['REVENUE'] = y_test"
   ]
  },
  {
   "cell_type": "code",
   "execution_count": null,
   "id": "6b7b4c7d",
   "metadata": {},
   "outputs": [],
   "source": [
    "# seeing what our r-squared is with standard linear regression function\n",
    "\n",
    "# creating model name for output\n",
    "model_name = \"Linear Regression Model\"\n",
    "\n",
    "\n",
    "# initiating the model\n",
    "model = sklearn.linear_model.LinearRegression()\n",
    "\n",
    "\n",
    "# fitting the data to the training dataset\n",
    "model_fit = model.fit(x_train, y_train)\n",
    "\n",
    "\n",
    "# predicting the testing data\n",
    "model_pred = model.predict(x_test)\n",
    "\n",
    "\n",
    "# evaulating the results\n",
    "model_train_score = model.score(x_train, y_train).round(4) # using R-square\n",
    "model_test_score  = model.score(x_test, y_test).round(4)   # using R-square\n",
    "model_gap         = abs(model_train_score - model_test_score).round(4)\n",
    "\n",
    "# dynamically printing results\n",
    "LR_model =  f\"\"\"\\\n",
    "Model Name:     {model_name}\n",
    "Train_Score:    {model_train_score}\n",
    "Test_Score:     {model_test_score}\n",
    "Train-Test Gap: {model_gap}\"\"\"\n",
    "\n",
    "print(LR_model)"
   ]
  },
  {
   "cell_type": "code",
   "execution_count": null,
   "id": "330c85f5",
   "metadata": {
    "code_folding": []
   },
   "outputs": [],
   "source": [
    "# creating an OLS regession\n",
    "\n",
    "# model formula OLS\n",
    "lm_fit = smf.ols(formula = \"\"\" REVENUE   ~  CROSS_SELL_SUCCESS +\n",
    "                                            TOTAL_MEALS_ORDERED +\n",
    "                                            UNIQUE_MEALS_PURCH +\n",
    "                                            CONTACTS_W_CUSTOMER_SERVICE +\n",
    "                                            PRODUCT_CATEGORIES_VIEWED +\n",
    "                                            AVG_TIME_PER_SITE_VISIT +\n",
    "                                            CANCELLATIONS_BEFORE_NOON +\n",
    "                                            CANCELLATIONS_AFTER_NOON +\n",
    "                                            TASTES_AND_PREFERENCES +\n",
    "                                            PC_LOGINS +\n",
    "                                            MOBILE_LOGINS +\n",
    "                                            WEEKLY_PLAN +\n",
    "                                            EARLY_DELIVERIES +\n",
    "                                            LATE_DELIVERIES +\n",
    "                                            PACKAGE_LOCKER +\n",
    "                                            REFRIGERATED_LOCKER +\n",
    "                                            AVG_PREP_VID_TIME +\n",
    "                                            LARGEST_ORDER_SIZE +\n",
    "                                            MASTER_CLASSES_ATTENDED +\n",
    "                                            MEDIAN_MEAL_RATING +\n",
    "                                            AVG_CLICKS_PER_VISIT +\n",
    "                                            TOTAL_PHOTOS_VIEWED \"\"\",\n",
    "                                data = Chef)\n",
    "\n",
    "\n",
    "# running the method through the formula\n",
    "results_fit = lm_fit.fit()\n",
    "results_rsquare = results_fit.rsquared.round(4)\n",
    "\n",
    "# printing results\n",
    "results_fit_summary = results_fit.summary()\n",
    "print(f\"Original R-Squared Value : {results_fit.rsquared.round(4)}\")"
   ]
  },
  {
   "cell_type": "code",
   "execution_count": null,
   "id": "547e9397",
   "metadata": {
    "code_folding": [
     0
    ]
   },
   "outputs": [],
   "source": [
    "# creating a hyperparameter to tune the model\n",
    "\n",
    "# storing the results\n",
    "results_as_html = results_fit_summary.tables[1].as_html()\n",
    "summary_df = pd.read_html(results_as_html, header=0, index_col=0)[0]\n",
    "model_pvals = summary_df.loc[:, 'P>|t|']\n",
    "\n",
    "# creating an empty list\n",
    "drop_features = []\n",
    "\n",
    "# creating a for loop to drop high p-values\n",
    "for feature, pval in model_pvals.iteritems() :\n",
    "    if pval  >= .05 :\n",
    "        drop_features.append(feature)\n",
    "    else:\n",
    "        continue\n",
    "        \n",
    "# hyperparameter\n",
    "drop_cols_param = np.array(drop_features)\n",
    "\n",
    "# printing the features to be dropped\n",
    "print(drop_features)"
   ]
  },
  {
   "cell_type": "code",
   "execution_count": null,
   "id": "a0e4d02a",
   "metadata": {
    "code_folding": [
     6
    ]
   },
   "outputs": [],
   "source": [
    "#OLS Train (FINAL MODEL (Train))\n",
    "\n",
    "# naming the model\n",
    "model_name_tuned_train = \"OLS Model Tuned (train)\"\n",
    "\n",
    "# creating the model instance \n",
    "OLS_tuned_train = smf.ols(formula = \"\"\"REVENUE ~  CROSS_SELL_SUCCESS +\n",
    "                                            TOTAL_MEALS_ORDERED +\n",
    "                                            UNIQUE_MEALS_PURCH +\n",
    "                                            CONTACTS_W_CUSTOMER_SERVICE +\n",
    "                                            PRODUCT_CATEGORIES_VIEWED +\n",
    "                                            AVG_TIME_PER_SITE_VISIT +\n",
    "                                            CANCELLATIONS_BEFORE_NOON +\n",
    "                                            CANCELLATIONS_AFTER_NOON +\n",
    "                                            TASTES_AND_PREFERENCES +\n",
    "                                            PC_LOGINS +\n",
    "                                            MOBILE_LOGINS +\n",
    "                                            WEEKLY_PLAN +\n",
    "                                            EARLY_DELIVERIES +\n",
    "                                            LATE_DELIVERIES +\n",
    "                                            PACKAGE_LOCKER +\n",
    "                                            REFRIGERATED_LOCKER +\n",
    "                                            AVG_PREP_VID_TIME +\n",
    "                                            LARGEST_ORDER_SIZE +\n",
    "                                            MASTER_CLASSES_ATTENDED +\n",
    "                                            MEDIAN_MEAL_RATING +\n",
    "                                            AVG_CLICKS_PER_VISIT +\n",
    "                                            TOTAL_PHOTOS_VIEWED\"\"\", \n",
    "                                    data = chef_train, \n",
    "                                    drop_cols= drop_cols_param)\n",
    "\n",
    "# fitting the data to train\n",
    "OLS_fit_tuned_train = OLS_tuned_train.fit()\n",
    "OLS_tuned_train_rsquare = OLS_fit_tuned_train.rsquared.round(4)"
   ]
  },
  {
   "cell_type": "code",
   "execution_count": null,
   "id": "acfafbcd",
   "metadata": {
    "code_folding": [
     6
    ]
   },
   "outputs": [],
   "source": [
    "#OLS Test (FINAL MODEL (Test))\n",
    "\n",
    "# naming the model\n",
    "model_name_test = \"OLS Model Tuned (test)\"\n",
    "\n",
    "# creating the model instance \n",
    "OLS_tuned_test = smf.ols(formula = \"\"\"REVENUE ~  CROSS_SELL_SUCCESS +\n",
    "                                            TOTAL_MEALS_ORDERED +\n",
    "                                            UNIQUE_MEALS_PURCH +\n",
    "                                            CONTACTS_W_CUSTOMER_SERVICE +\n",
    "                                            PRODUCT_CATEGORIES_VIEWED +\n",
    "                                            AVG_TIME_PER_SITE_VISIT +\n",
    "                                            CANCELLATIONS_BEFORE_NOON +\n",
    "                                            CANCELLATIONS_AFTER_NOON +\n",
    "                                            TASTES_AND_PREFERENCES +\n",
    "                                            PC_LOGINS +\n",
    "                                            MOBILE_LOGINS +\n",
    "                                            WEEKLY_PLAN +\n",
    "                                            EARLY_DELIVERIES +\n",
    "                                            LATE_DELIVERIES +\n",
    "                                            PACKAGE_LOCKER +\n",
    "                                            REFRIGERATED_LOCKER +\n",
    "                                            AVG_PREP_VID_TIME +\n",
    "                                            LARGEST_ORDER_SIZE +\n",
    "                                            MASTER_CLASSES_ATTENDED +\n",
    "                                            MEDIAN_MEAL_RATING +\n",
    "                                            AVG_CLICKS_PER_VISIT +\n",
    "                                            TOTAL_PHOTOS_VIEWED\"\"\", \n",
    "                                    data = chef_test, \n",
    "                                    drop_cols= drop_cols_param)\n",
    "\n",
    "# fitting the data to train\n",
    "OLS_fit_tuned_test = OLS_tuned_test.fit()\n",
    "OLS_tuned_test_rsquare = OLS_fit_tuned_test.rsquared.round(4)"
   ]
  },
  {
   "cell_type": "code",
   "execution_count": null,
   "id": "7088f4e8",
   "metadata": {},
   "outputs": [],
   "source": [
    "# FINAL MODEL EVALUATIONS\n",
    "\n",
    "# evaluating the OLS Tuned Model with train and test\n",
    "model_name = \"Tuned OLS Model\"\n",
    "model_gap  = abs(OLS_tuned_train_rsquare - OLS_tuned_test_rsquare).round(4)\n",
    "\n",
    "# dynamically printing results\n",
    "OLS_model =  f\"\"\"\\\n",
    "Model Name:     Original OLS Model\n",
    "Original Score: {results_rsquare}\n",
    "\n",
    "Model Name:     {model_name}\n",
    "Train_Score:    {OLS_tuned_train_rsquare}\n",
    "Test_Score:     {OLS_tuned_test_rsquare}\n",
    "Train-Test Gap: {model_gap}\"\"\"\n",
    "\n",
    "print(OLS_model)"
   ]
  },
  {
   "cell_type": "markdown",
   "id": "41c2031e",
   "metadata": {},
   "source": [
    "# Analyzing the Results"
   ]
  },
  {
   "cell_type": "markdown",
   "id": "679f391e",
   "metadata": {},
   "source": [
    "After tuning the model, we can see the r-squared value went up significantly. We went from our predictions being roughly 64% accurate to the tuned model predicting roughly 92% accurately. "
   ]
  }
 ],
 "metadata": {
  "kernelspec": {
   "display_name": "Python 3 (ipykernel)",
   "language": "python",
   "name": "python3"
  },
  "language_info": {
   "codemirror_mode": {
    "name": "ipython",
    "version": 3
   },
   "file_extension": ".py",
   "mimetype": "text/x-python",
   "name": "python",
   "nbconvert_exporter": "python",
   "pygments_lexer": "ipython3",
   "version": "3.9.7"
  },
  "toc": {
   "base_numbering": 1,
   "nav_menu": {},
   "number_sections": true,
   "sideBar": true,
   "skip_h1_title": false,
   "title_cell": "Table of Contents",
   "title_sidebar": "Contents",
   "toc_cell": false,
   "toc_position": {},
   "toc_section_display": true,
   "toc_window_display": false
  },
  "varInspector": {
   "cols": {
    "lenName": 16,
    "lenType": 16,
    "lenVar": 40
   },
   "kernels_config": {
    "python": {
     "delete_cmd_postfix": "",
     "delete_cmd_prefix": "del ",
     "library": "var_list.py",
     "varRefreshCmd": "print(var_dic_list())"
    },
    "r": {
     "delete_cmd_postfix": ") ",
     "delete_cmd_prefix": "rm(",
     "library": "var_list.r",
     "varRefreshCmd": "cat(var_dic_list()) "
    }
   },
   "position": {
    "height": "583.854px",
    "left": "988.267px",
    "right": "20px",
    "top": "120px",
    "width": "359.006px"
   },
   "types_to_exclude": [
    "module",
    "function",
    "builtin_function_or_method",
    "instance",
    "_Feature"
   ],
   "window_display": false
  }
 },
 "nbformat": 4,
 "nbformat_minor": 5
}
